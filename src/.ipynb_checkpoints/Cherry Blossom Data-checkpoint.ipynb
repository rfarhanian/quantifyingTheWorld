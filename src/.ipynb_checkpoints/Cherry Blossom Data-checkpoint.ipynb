{
 "cells": [
  {
   "cell_type": "code",
   "execution_count": 1,
   "metadata": {},
   "outputs": [],
   "source": [
    "extractResTable =\n",
    "  #\n",
    "  # Retrieve data from web site, \n",
    "  # find the preformatted text,\n",
    "  # and write lines or return as a character vector.\n",
    "  #\n",
    "  function(url = \"http://www.cherryblossom.org/results/2009/09cucb-F.htm\",\n",
    "           year = 1999, sex = \"male\", file = NULL)\n",
    "  {\n",
    "    doc = htmlParse(url)\n",
    "\n",
    "    if (year == 2000) {\n",
    "      # Get preformatted text from 4th font element\n",
    "      # The top file is ill formed so the <pre> search doesn't work.\n",
    "      ff = getNodeSet(doc, \"//font\")\n",
    "      txt = xmlValue(ff[[4]])\n",
    "      els = strsplit(txt, \"\\r\\n\")[[1]]\n",
    "    }\n",
    "    else if (year == 2009 & sex == \"male\") {\n",
    "      # Get preformatted text from <div class=\"Section1\"> element\n",
    "      # Each line of results is in a <pre> element\n",
    "      div1 = getNodeSet(doc, \"//div[@class='Section1']\")\n",
    "      pres = getNodeSet(div1[[1]], \"//pre\")\n",
    "      els = sapply(pres, xmlValue)\n",
    "    }\n",
    "    else {\n",
    "      # Get preformatted text from <pre> elements\n",
    "      pres = getNodeSet(doc, \"//pre\")\n",
    "      txt = xmlValue(pres[[1]])\n",
    "      els = strsplit(txt, \"\\r\\n\")[[1]]   \n",
    "    } \n",
    "    \n",
    "    if (is.null(file)) return(els)\n",
    "    # Write the lines as a text file.\n",
    "    writeLines(els, con = file)\n",
    "  }"
   ]
  },
  {
   "cell_type": "code",
   "execution_count": 2,
   "metadata": {},
   "outputs": [],
   "source": [
    "library(XML)\n",
    "ubase = \"http://www.cherryblossom.org/\""
   ]
  },
  {
   "cell_type": "code",
   "execution_count": 3,
   "metadata": {},
   "outputs": [
    {
     "data": {
      "text/html": [
       "<ol class=list-inline>\n",
       "\t<li>'http://www.cherryblossom.org/results/1999/cb99m.htm'</li>\n",
       "\t<li>'http://www.cherryblossom.org/results/2000/Cb003m.htm'</li>\n",
       "\t<li>'http://www.cherryblossom.org/results/2001/oof_m.html'</li>\n",
       "</ol>\n"
      ],
      "text/latex": [
       "\\begin{enumerate*}\n",
       "\\item 'http://www.cherryblossom.org/results/1999/cb99m.htm'\n",
       "\\item 'http://www.cherryblossom.org/results/2000/Cb003m.htm'\n",
       "\\item 'http://www.cherryblossom.org/results/2001/oof\\_m.html'\n",
       "\\end{enumerate*}\n"
      ],
      "text/markdown": [
       "1. 'http://www.cherryblossom.org/results/1999/cb99m.htm'\n",
       "2. 'http://www.cherryblossom.org/results/2000/Cb003m.htm'\n",
       "3. 'http://www.cherryblossom.org/results/2001/oof_m.html'\n",
       "\n",
       "\n"
      ],
      "text/plain": [
       "[1] \"http://www.cherryblossom.org/results/1999/cb99m.htm\" \n",
       "[2] \"http://www.cherryblossom.org/results/2000/Cb003m.htm\"\n",
       "[3] \"http://www.cherryblossom.org/results/2001/oof_m.html\""
      ]
     },
     "metadata": {},
     "output_type": "display_data"
    }
   ],
   "source": [
    "menURLs = \n",
    "  c(\"results/1999/cb99m.htm\", \"results/2000/Cb003m.htm\", \"results/2001/oof_m.html\",\n",
    "    \"results/2002/oofm.htm\", \"results/2003/CB03-M.HTM\",\n",
    "    \"results/2004/men.htm\", \"results/2005/CB05-M.htm\", \n",
    "    \"results/2006/men.htm\", \"results/2007/men.htm\", \n",
    "    \"results/2008/men.htm\", \"results/2009/09cucb-M.htm\",\n",
    "    \"results/2010/2010cucb10m-m.htm\", \n",
    "    \"results/2011/2011cucb10m-m.htm\",\n",
    "    \"results/2012/2012cucb10m-m.htm\")\n",
    "\n",
    "urls = paste(ubase, menURLs, sep = \"\")\n",
    "\n",
    "urls[1:3]"
   ]
  },
  {
   "cell_type": "code",
   "execution_count": null,
   "metadata": {},
   "outputs": [],
   "source": [
    "years = 1999:2012\n",
    "menTables = mapply(extractResTable, url = urls, year = years, file=\"/data/Ramin.txt\")\n"
   ]
  },
  {
   "cell_type": "code",
   "execution_count": null,
   "metadata": {},
   "outputs": [],
   "source": [
    "names(menTables) = years\n",
    "sapply(menTables, length)"
   ]
  },
  {
   "cell_type": "code",
   "execution_count": null,
   "metadata": {},
   "outputs": [],
   "source": []
  }
 ],
 "metadata": {
  "kernelspec": {
   "display_name": "R",
   "language": "R",
   "name": "ir"
  },
  "language_info": {
   "codemirror_mode": "r",
   "file_extension": ".r",
   "mimetype": "text/x-r-source",
   "name": "R",
   "pygments_lexer": "r",
   "version": "3.4.3"
  }
 },
 "nbformat": 4,
 "nbformat_minor": 2
}
